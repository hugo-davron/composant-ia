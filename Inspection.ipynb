{
 "cells": [
  {
   "cell_type": "code",
   "execution_count": 11,
   "id": "201491e9",
   "metadata": {},
   "outputs": [
    {
     "name": "stdout",
     "output_type": "stream",
     "text": [
      "Accuracy: 0.555657962109575\n",
      "Classification Report:\n",
      "               precision    recall  f1-score   support\n",
      "\n",
      "         1.0       0.00      0.00      0.00      3740\n",
      "         2.0       0.56      1.00      0.71      5426\n",
      "         3.0       0.00      0.00      0.00       599\n",
      "\n",
      "    accuracy                           0.56      9765\n",
      "   macro avg       0.19      0.33      0.24      9765\n",
      "weighted avg       0.31      0.56      0.40      9765\n",
      "\n"
     ]
    },
    {
     "name": "stderr",
     "output_type": "stream",
     "text": [
      "C:\\Users\\hudav\\anaconda3\\lib\\site-packages\\sklearn\\metrics\\_classification.py:1318: UndefinedMetricWarning: Precision and F-score are ill-defined and being set to 0.0 in labels with no predicted samples. Use `zero_division` parameter to control this behavior.\n",
      "  _warn_prf(average, modifier, msg_start, len(result))\n",
      "C:\\Users\\hudav\\anaconda3\\lib\\site-packages\\sklearn\\metrics\\_classification.py:1318: UndefinedMetricWarning: Precision and F-score are ill-defined and being set to 0.0 in labels with no predicted samples. Use `zero_division` parameter to control this behavior.\n",
      "  _warn_prf(average, modifier, msg_start, len(result))\n",
      "C:\\Users\\hudav\\anaconda3\\lib\\site-packages\\sklearn\\metrics\\_classification.py:1318: UndefinedMetricWarning: Precision and F-score are ill-defined and being set to 0.0 in labels with no predicted samples. Use `zero_division` parameter to control this behavior.\n",
      "  _warn_prf(average, modifier, msg_start, len(result))\n"
     ]
    }
   ],
   "source": [
    "import numpy as np\n",
    "import pandas as pd\n",
    "from sklearn.model_selection import train_test_split\n",
    "from sklearn.preprocessing import StandardScaler\n",
    "from sklearn.linear_model import LogisticRegression\n",
    "from sklearn.metrics import accuracy_score, classification_report\n",
    "from sklearn.preprocessing import LabelEncoder\n",
    "\n",
    "# Charger votre jeu de données\n",
    "data = pd.read_csv('data1.csv', delimiter=';', decimal='.')\n",
    "data = data[[\"Synthese_eval_sanit\", \"APP_Libelle_activite_etablissement\", \"Code_postal\", \"Libelle_commune\"]]\n",
    "\n",
    "# Initialisez l'encodeur LabelEncoder\n",
    "label_encoder = LabelEncoder()\n",
    "\n",
    "# Transformez les catégories en valeurs numériques\n",
    "data[\"APP_Libelle_activite_etablissement\"] = label_encoder.fit_transform(data['APP_Libelle_activite_etablissement'])\n",
    "data[\"Libelle_commune\"] = label_encoder.fit_transform(data['Libelle_commune'])\n",
    "# Conversion des évaluations en valeurs numériques ordinales\n",
    "data['Synthese_eval_sanit'] = data['Synthese_eval_sanit'].map({'Très satisfaisant': 1, 'Satisfaisant': 2, 'A améliorer': 3})\n",
    "#data['Date_inspection'] = pd.to_numeric(data['Date_inspection'], errors='coerce')\n",
    "# Séparation des caractéristiques (prédicteurs) et de la variable cible\n",
    "data.dropna(inplace = True)\n",
    "\n",
    "X = data[[\"APP_Libelle_activite_etablissement\", \"Libelle_commune\"]]\n",
    "y = data['Synthese_eval_sanit']\n",
    "\n",
    "# Division des données en ensembles d'apprentissage et de test\n",
    "X_train, X_test, y_train, y_test = train_test_split(X, y, test_size=0.3, random_state=42)\n",
    "\n",
    "# Standardisation des caractéristiques (peut ne pas être nécessaire selon les prédicteurs)\n",
    "scaler = StandardScaler()\n",
    "X_train = scaler.fit_transform(X_train)\n",
    "X_test = scaler.transform(X_test)\n",
    "\n",
    "# Création du modèle de régression logistique ordinale\n",
    "model = LogisticRegression(multi_class='ovr', solver='liblinear')  # 'ovr' pour la régression ordonnée\n",
    "\n",
    "# Entraînement du modèle\n",
    "model.fit(X_train, y_train)\n",
    "\n",
    "# Prédictions sur l'ensemble de test\n",
    "y_pred = model.predict(X_test)\n",
    "\n",
    "# Évaluation du modèle\n",
    "accuracy = accuracy_score(y_test, y_pred)\n",
    "report = classification_report(y_test, y_pred)\n",
    "\n",
    "print(\"Accuracy:\", accuracy)\n",
    "print(\"Classification Report:\\n\", report)"
   ]
  },
  {
   "cell_type": "code",
   "execution_count": null,
   "id": "220aae19",
   "metadata": {},
   "outputs": [],
   "source": []
  },
  {
   "cell_type": "code",
   "execution_count": null,
   "id": "ef846d40",
   "metadata": {},
   "outputs": [],
   "source": []
  }
 ],
 "metadata": {
  "kernelspec": {
   "display_name": "Python 3 (ipykernel)",
   "language": "python",
   "name": "python3"
  },
  "language_info": {
   "codemirror_mode": {
    "name": "ipython",
    "version": 3
   },
   "file_extension": ".py",
   "mimetype": "text/x-python",
   "name": "python",
   "nbconvert_exporter": "python",
   "pygments_lexer": "ipython3",
   "version": "3.9.12"
  }
 },
 "nbformat": 4,
 "nbformat_minor": 5
}
