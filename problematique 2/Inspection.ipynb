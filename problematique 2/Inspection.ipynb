{
 "cells": [
  {
   "cell_type": "code",
   "execution_count": 37,
   "id": "201491e9",
   "metadata": {},
   "outputs": [
    {
     "name": "stdout",
     "output_type": "stream",
     "text": [
      "Accuracy: 0.547836617857536\n",
      "Classification Report:\n",
      "               precision    recall  f1-score   support\n",
      "\n",
      "           1       0.00      0.00      0.00      3438\n",
      "           2       0.55      1.00      0.71      4976\n",
      "           3       0.00      0.00      0.00       635\n",
      "           4       0.00      0.00      0.00        34\n",
      "\n",
      "    accuracy                           0.55      9083\n",
      "   macro avg       0.14      0.25      0.18      9083\n",
      "weighted avg       0.30      0.55      0.39      9083\n",
      "\n"
     ]
    },
    {
     "name": "stderr",
     "output_type": "stream",
     "text": [
      "/home/heartless/anaconda3/lib/python3.9/site-packages/sklearn/metrics/_classification.py:1248: UndefinedMetricWarning: Precision and F-score are ill-defined and being set to 0.0 in labels with no predicted samples. Use `zero_division` parameter to control this behavior.\n",
      "  _warn_prf(average, modifier, msg_start, len(result))\n",
      "/home/heartless/anaconda3/lib/python3.9/site-packages/sklearn/metrics/_classification.py:1248: UndefinedMetricWarning: Precision and F-score are ill-defined and being set to 0.0 in labels with no predicted samples. Use `zero_division` parameter to control this behavior.\n",
      "  _warn_prf(average, modifier, msg_start, len(result))\n",
      "/home/heartless/anaconda3/lib/python3.9/site-packages/sklearn/metrics/_classification.py:1248: UndefinedMetricWarning: Precision and F-score are ill-defined and being set to 0.0 in labels with no predicted samples. Use `zero_division` parameter to control this behavior.\n",
      "  _warn_prf(average, modifier, msg_start, len(result))\n"
     ]
    }
   ],
   "source": [
    "import numpy as np\n",
    "import pandas as pd\n",
    "from sklearn.model_selection import train_test_split\n",
    "from sklearn.preprocessing import StandardScaler\n",
    "from sklearn.linear_model import LogisticRegression\n",
    "from sklearn.metrics import accuracy_score, classification_report\n",
    "from sklearn.preprocessing import LabelEncoder\n",
    "from sklearn.ensemble import RandomForestClassifier\n",
    "\n",
    "\n",
    "# Charger votre jeu de données\n",
    "data = pd.read_csv('data1.csv', delimiter=';', decimal='.')\n",
    "data_pop = pd.read_csv('Communes.csv', delimiter=';', decimal='.')\n",
    "\n",
    "#recuperation des colonnes interessantes\n",
    "data = data[[\"Synthese_eval_sanit\", \"APP_Libelle_activite_etablissement\", \"Code_postal\", \"Libelle_commune\"]]\n",
    "data_pop = data_pop.drop(['PMUN','PCAP','DEPCOM'],axis=1)\n",
    "\n",
    "#renommer la colonne code postal\n",
    "data_pop.rename(columns={'COM': 'Libelle_commune'}, inplace=True)\n",
    "\n",
    "#Fusion des df data et data_pop\n",
    "df_fusionne = pd.merge(data,data_pop, on=['Libelle_commune'])\n",
    "\n",
    "# Initialisez l'encodeur LabelEncoder\n",
    "label_encoder = LabelEncoder()\n",
    "\n",
    "# Transformez les catégories en valeurs numériques\n",
    "df_fusionne[\"APP_Libelle_activite_etablissement\"] = label_encoder.fit_transform(df_fusionne['APP_Libelle_activite_etablissement'])\n",
    "df_fusionne[\"Libelle_commune\"] = label_encoder.fit_transform(df_fusionne['Libelle_commune'])\n",
    "\n",
    "# Conversion des évaluations en valeurs numériques ordinales\n",
    "df_fusionne['Synthese_eval_sanit'] = df_fusionne['Synthese_eval_sanit'].map({'Très satisfaisant': 1, 'Satisfaisant': 2, 'A améliorer': 3,'A corriger de manière urgente':4})\n",
    "#data['Date_inspection'] = pd.to_numeric(data['Date_inspection'], errors='coerce')\n",
    "\n",
    "\n",
    "X = df_fusionne[[\"APP_Libelle_activite_etablissement\", \"Libelle_commune\",\"PTOT\"]]\n",
    "y = df_fusionne['Synthese_eval_sanit']\n",
    "\n",
    "# Division des données en ensembles d'apprentissage et de test\n",
    "X_train, X_test, y_train, y_test = train_test_split(X, y, test_size=0.3, random_state=42)\n",
    "\n",
    "# Standardisation des caractéristiques (peut ne pas être nécessaire selon les prédicteurs)\n",
    "scaler = StandardScaler()\n",
    "X_train = scaler.fit_transform(X_train)\n",
    "X_test = scaler.transform(X_test)\n",
    "\n",
    "# Création du modèle de régression logistique ordinale\n",
    "model = LogisticRegression(multi_class='ovr', solver='liblinear')  # 'ovr' pour la régression ordonnée\n",
    "\n",
    "# Entraînement du modèle\n",
    "model.fit(X_train, y_train)\n",
    "\n",
    "# Prédictions sur l'ensemble de test\n",
    "y_pred = model.predict(X_test)\n",
    "\n",
    "# Évaluation du modèle\n",
    "accuracy = accuracy_score(y_test, y_pred)\n",
    "report = classification_report(y_test, y_pred)\n",
    "\n",
    "print(\"Accuracy:\", accuracy)\n",
    "print(\"Classification Report:\\n\", report)"
   ]
  },
  {
   "cell_type": "code",
   "execution_count": 38,
   "id": "31b94540",
   "metadata": {},
   "outputs": [
    {
     "data": {
      "text/plain": [
       "0.5946273257734229"
      ]
     },
     "execution_count": 38,
     "metadata": {},
     "output_type": "execute_result"
    }
   ],
   "source": [
    "# test du modele Random Forest Classifier\n",
    "clf = RandomForestClassifier(n_estimators=50,min_samples_split=10,random_state=1)\n",
    "clf.fit(X_train,y_train)\n",
    "y_pred=clf.predict(X_test)\n",
    "\n",
    "#Score random forest classifier\n",
    "acc = accuracy_score(y_test,y_pred)\n",
    "acc"
   ]
  },
  {
   "cell_type": "code",
   "execution_count": 39,
   "id": "1f3905e1",
   "metadata": {},
   "outputs": [],
   "source": [
    "#enregistrement des resultats dans un fichier csv\n",
    "df_fusionne.to_csv('Data_finale1.csv', index=False,sep=';')"
   ]
  }
 ],
 "metadata": {
  "kernelspec": {
   "display_name": "Python 3 (ipykernel)",
   "language": "python",
   "name": "python3"
  },
  "language_info": {
   "codemirror_mode": {
    "name": "ipython",
    "version": 3
   },
   "file_extension": ".py",
   "mimetype": "text/x-python",
   "name": "python",
   "nbconvert_exporter": "python",
   "pygments_lexer": "ipython3",
   "version": "3.9.7"
  }
 },
 "nbformat": 4,
 "nbformat_minor": 5
}
